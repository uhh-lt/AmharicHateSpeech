{
 "cells": [
  {
   "cell_type": "code",
   "execution_count": 5,
   "id": "dae9d34d",
   "metadata": {},
   "outputs": [],
   "source": [
    "import os\n",
    "\n",
    "folder = \"C:/Users/mele/Desktop/concatenate/eng_to_amh_translate/im\"\n",
    "start_number = 2008\n",
    "\n",
    "# get a list of all the files in the folder\n",
    "file_list = os.listdir(folder)\n",
    "\n",
    "# loop through each file\n",
    "for i, filename in enumerate(file_list):\n",
    "    if os.path.isfile(os.path.join(folder, filename)):\n",
    "        # get the file extension\n",
    "        extension = os.path.splitext(filename)[1]\n",
    "        # construct the new filename with the specified start number and extension\n",
    "        new_filename = \"{:04d}{}\".format(start_number+i, extension)\n",
    "        # rename the file with the new name\n",
    "        os.rename(os.path.join(folder, filename), os.path.join(folder, new_filename))"
   ]
  },
  {
   "cell_type": "code",
   "execution_count": null,
   "id": "1c7e3efc",
   "metadata": {},
   "outputs": [],
   "source": []
  }
 ],
 "metadata": {
  "kernelspec": {
   "display_name": "Python 3 (ipykernel)",
   "language": "python",
   "name": "python3"
  },
  "language_info": {
   "codemirror_mode": {
    "name": "ipython",
    "version": 3
   },
   "file_extension": ".py",
   "mimetype": "text/x-python",
   "name": "python",
   "nbconvert_exporter": "python",
   "pygments_lexer": "ipython3",
   "version": "3.9.7"
  }
 },
 "nbformat": 4,
 "nbformat_minor": 5
}
